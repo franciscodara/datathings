{
 "cells": [
  {
   "cell_type": "markdown",
   "id": "95e00d9c",
   "metadata": {},
   "source": [
    "# COMPASS - Synapse Notebook\n",
    "## Convert JSON to CSV"
   ]
  },
  {
   "cell_type": "code",
   "execution_count": null,
   "id": "df328d81",
   "metadata": {},
   "outputs": [],
   "source": [
    "# Caminho dos arquivos\n",
    "programacoes = \"files/programacoes.csv\"\n",
    "programacoes"
   ]
  },
  {
   "cell_type": "code",
   "execution_count": null,
   "id": "8adcebb5",
   "metadata": {},
   "outputs": [],
   "source": [
    "# Ler JSON no DataFrame\n",
    "df = spark.read.json(\"files/programacoes.csv\")\n",
    "df.printSchema()\n",
    "df.show(false)"
   ]
  },
  {
   "cell_type": "code",
   "execution_count": null,
   "id": "d48fdc21",
   "metadata": {},
   "outputs": [],
   "source": []
  }
 ],
 "metadata": {
  "kernelspec": {
   "display_name": "Python 3.10.6 ('py310')",
   "language": "python",
   "name": "python3"
  },
  "language_info": {
   "codemirror_mode": {
    "name": "ipython",
    "version": 3
   },
   "file_extension": ".py",
   "mimetype": "text/x-python",
   "name": "python",
   "nbconvert_exporter": "python",
   "pygments_lexer": "ipython3",
   "version": "3.10.6"
  },
  "vscode": {
   "interpreter": {
    "hash": "41a2cea11fa1fc8efc2099aafce2d932c0538c3cd0600018b63e75c0f1f811b7"
   }
  }
 },
 "nbformat": 4,
 "nbformat_minor": 5
}

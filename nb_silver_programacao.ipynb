{
 "cells": [
  {
   "cell_type": "code",
   "execution_count": null,
   "metadata": {},
   "outputs": [],
   "source": [
    "# Connecting Notebook to Azure Blob Storage\n",
    "\n",
    "storage_account_name = \"\"\n",
    "storage_account_key = \"\"\n",
    "container = \"\"\n",
    "\n",
    "spark.conf.set(f\"fs.azure.account.key.{storage_account_name}.blob.core.windows.net\", storage_account_key)\n"
   ]
  },
  {
   "cell_type": "code",
   "execution_count": null,
   "metadata": {},
   "outputs": [],
   "source": [
    "import pyspark\n",
    "from pyspark.sql import SparkSession"
   ]
  },
  {
   "cell_type": "code",
   "execution_count": null,
   "metadata": {},
   "outputs": [],
   "source": [
    "spark = SparkSession.builder.appName(\"SparkApp\").getOrCreate()"
   ]
  },
  {
   "cell_type": "code",
   "execution_count": null,
   "metadata": {},
   "outputs": [],
   "source": [
    "spark"
   ]
  },
  {
   "cell_type": "code",
   "execution_count": 25,
   "metadata": {},
   "outputs": [],
   "source": [
    "arquivo = \"files\\programacoes.csv\""
   ]
  },
  {
   "cell_type": "code",
   "execution_count": 28,
   "metadata": {},
   "outputs": [
    {
     "name": "stdout",
     "output_type": "stream",
     "text": [
      "+---+--------------------+-------------------+--------------------+--------------------+--------------------+--------------------+--------------------+--------------------+--------------------+--------------------+--------------------+--------------------+--------------------+--------------------+--------------------+----------------+--------------------+------------------+-----------------+--------------------+--------------------+--------------------+--------------------+--------------------+--------------------+\n",
      "|_c0|                 _c1|                _c2|                 _c3|                 _c4|                 _c5|                 _c6|                 _c7|                 _c8|                 _c9|                _c10|                _c11|                _c12|                _c13|                _c14|                _c15|            _c16|                _c17|              _c18|             _c19|                _c20|                _c21|                _c22|                _c23|                _c24|                _c25|\n",
      "+---+--------------------+-------------------+--------------------+--------------------+--------------------+--------------------+--------------------+--------------------+--------------------+--------------------+--------------------+--------------------+--------------------+--------------------+--------------------+----------------+--------------------+------------------+-----------------+--------------------+--------------------+--------------------+--------------------+--------------------+--------------------+\n",
      "|__v|                 _id| consumo.programado|  consumo.solicitado|    contrato.cliente|  contrato.createdAt|  contrato.deletedAt|contrato.fimVigencia|         contrato.id|contrato.inicioVi...|  contrato.isDeleted|contrato.limiteLa...|     contrato.numero|contrato.pontoEnt...|        contrato.qdc|     contrato.status|contrato.tipoGas|contrato.tipoProg...|contrato.updatedAt|        createdAt|                data|         dataPeriodo|           idUsuario|            situacao|                tipo|           updatedAt|\n",
      "|  0|6310a995c42d1cece...|                 []|       \"[{\"\"BA1\"\":1}|         {\"\"BA2\"\":1}|         {\"\"BA3\"\":1}|       {\"\"BA4\"\":1}]\"|                null|2022-07-27T20:50:...|                null|2024-07-01T03:00:...|62e1a5170b80239de...|2022-02-28T03:00:...|                null|                null|               55516|       \"[\"\"SP1\"\"|             \"\"SP2\"\"|           \"\"MG1\"\"|        \"\"MG2\"\"]\"|              500000|               Ativo|                  GN|        \"[\"\"Mensal\"\"|         \"\"Semanal\"\"|          \"\"Diaria\"\"|\n",
      "|  0|6319ffaa470cf5793...|\"[{\"\"SP1\"\":3875000}|   {\"\"SP2\"\":3875000}|   {\"\"MG1\"\":3875000}| {\"\"MG2\"\":3875000}]\"| \"[{\"\"SP1\"\":3875000}|   {\"\"SP2\"\":3875000}|   {\"\"MG1\"\":3875000}| {\"\"MG2\"\":3875000}]\"|                null|2022-08-02T17:44:...|                null|2024-07-10T03:00:...|62e962780bd0fc1f5...|2022-07-15T03:00:...|            null|                null|            111221|        \"[\"\"SP1\"\"|             \"\"SP2\"\"|             \"\"MG1\"\"|           \"\"MG2\"\"]\"|              500000|               Ativo|                  GN|\n",
      "|  0|631f8e4daecd06b95...|                 []| \"[{\"\"SP1\"\":3875000}|   {\"\"SP2\"\":3875000}|   {\"\"MG1\"\":3875000}| {\"\"MG2\"\":3876000}]\"|                null|2022-07-28T13:07:...|                null|2024-07-01T00:00:...|62e289f548af30164...|2022-02-28T00:00:...|                null|                null|               55517|       \"[\"\"SP1\"\"|             \"\"SP2\"\"|           \"\"MG1\"\"|        \"\"MG2\"\"]\"|              500000|               Ativo|                  GN|         \"[\"\"Anual\"\"|       \"\"Semestral\"\"|      \"\"Trimestral\"\"|\n",
      "|  0|63370845882739a89...|                 []|\"[{\"\"RJ1\"\":128.23...|                null|2022-08-12T20:14:...|2022-08-15T20:04:...|2024-07-01T03:00:...|62f6b4c3e08e7d951...|2022-07-01T03:00:...|               false|                null|              112245|         \"[\"\"RJ1\"\"]\"|              600000|               Ativo|              GN|        \"[\"\"Mensal\"\"|        \"\"Diaria\"\"|\"\"Intradiaria\"\"]\"|2022-09-30T15:15:...|2022-09-30T15:16:...|2022-10-01T00:00:...|                null|6337066f6d17d117a...|Aguardando Lançam...|\n",
      "|  0|633715a79fe32946f...|                 []|       \"[{\"\"RN1\"\":1}|       {\"\"RN2\"\":1}]\"|                null|2022-08-30T15:17:...|                null|2023-12-31T03:00:...|630e29f8554a3859a...|2022-01-01T03:00:...|                null|                null|              664455|           \"[\"\"RN1\"\"|           \"\"RN2\"\"]\"|          120000|               Ativo|                GN| \"[\"\"Trimestral\"\"|          \"\"Mensal\"\"|          \"\"Diaria\"\"|   \"\"Intradiaria\"\"]\"|2022-09-30T15:38:...|2022-09-30T16:13:...|2022-09-30T00:00:...|\n",
      "|  0|63371aa4882739a89...|                 []| \"[{\"\"SP1\"\":3333.33}|    {\"\"SP2\"\":3.33}]\"|                null|2022-08-01T18:12:...|                null|2024-07-01T03:00:...|62e817806d66803ae...|2022-07-01T03:00:...|                null|                null|              215487|           \"[\"\"SP1\"\"|           \"\"SP2\"\"]\"|          780000|               Ativo|                GN|     \"[\"\"Mensal\"\"|         \"\"Semanal\"\"|          \"\"Diaria\"\"|   \"\"Intradiaria\"\"]\"|2022-09-30T15:41:...|2022-09-30T16:34:...|2022-09-30T00:00:...|\n",
      "|  0|63371ab5882739a89...|                 []| \"[{\"\"SP1\"\":1493.78}|{\"\"SP2\"\":583.8199...|                null|2022-08-01T18:12:...|                null|2024-07-01T03:00:...|62e817806d66803ae...|2022-07-01T03:00:...|                null|                null|              215487|           \"[\"\"SP1\"\"|           \"\"SP2\"\"]\"|          780000|               Ativo|                GN|     \"[\"\"Mensal\"\"|         \"\"Semanal\"\"|          \"\"Diaria\"\"|   \"\"Intradiaria\"\"]\"|2022-09-30T15:41:...|2022-09-30T16:35:...|2022-10-02T00:00:...|\n",
      "|  0|63371adf882739a89...|                 []| \"[{\"\"BH1\"\":1111.11}| {\"\"BH2\"\":1233.33}]\"|                null|2022-08-26T20:25:...|                null|2024-07-01T03:00:...|63092c313cbff5755...|2022-07-28T03:00:...|                null|                null|              111227|           \"[\"\"BH1\"\"|           \"\"BH2\"\"]\"|            1000|               Ativo|                GN|     \"[\"\"Mensal\"\"|         \"\"Semanal\"\"|          \"\"Diaria\"\"|   \"\"Intradiaria\"\"]\"|2022-09-30T15:41:...|2022-09-30T16:35:...|2022-09-30T00:00:...|\n",
      "|  0|63371dc1882739a89...|                 []|\"[{\"\"SP1\"\":12123123}|   {\"\"SP2\"\":33.33}]\"|                null|2022-08-01T18:12:...|                null|2024-07-01T03:00:...|62e817806d66803ae...|2022-07-01T03:00:...|                null|                null|              215487|           \"[\"\"SP1\"\"|           \"\"SP2\"\"]\"|          780000|               Ativo|                GN|     \"[\"\"Mensal\"\"|         \"\"Semanal\"\"|          \"\"Diaria\"\"|   \"\"Intradiaria\"\"]\"|2022-09-30T15:41:...|2022-09-30T16:48:...|2022-09-30T00:00:...|\n",
      "|  0|63371dca882739a89...|                 []|   \"[{\"\"BH1\"\":33.33}| {\"\"BH2\"\":3333.33}]\"|                null|2022-08-26T20:25:...|                null|2024-07-01T03:00:...|63092c313cbff5755...|2022-07-28T03:00:...|                null|                null|              111227|           \"[\"\"BH1\"\"|           \"\"BH2\"\"]\"|            1000|               Ativo|                GN|     \"[\"\"Mensal\"\"|         \"\"Semanal\"\"|          \"\"Diaria\"\"|   \"\"Intradiaria\"\"]\"|2022-09-30T15:41:...|2022-09-30T16:48:...|2022-09-30T00:00:...|\n",
      "|  0|63371e7a882739a89...|                 []|\"[{\"\"SP1\"\":118.78...|{\"\"SP2\"\":103.2299...|                null|2022-08-01T18:12:...|                null|2024-07-01T03:00:...|62e817806d66803ae...|2022-07-01T03:00:...|                null|                null|              215487|           \"[\"\"SP1\"\"|           \"\"SP2\"\"]\"|          780000|               Ativo|                GN|     \"[\"\"Mensal\"\"|         \"\"Semanal\"\"|          \"\"Diaria\"\"|   \"\"Intradiaria\"\"]\"|2022-09-30T16:49:...|2022-09-30T16:51:...|2022-10-01T00:00:...|\n",
      "|  0|6337245e011e9379e...|                 []| \"[{\"\"SP1\"\":2222.22}| {\"\"SP2\"\":2333.44}]\"|                null|2022-08-01T18:12:...|                null|2024-07-01T03:00:...|62e817806d66803ae...|2022-07-01T03:00:...|                null|                null|              215487|           \"[\"\"SP1\"\"|           \"\"SP2\"\"]\"|          780000|               Ativo|                GN|     \"[\"\"Mensal\"\"|         \"\"Semanal\"\"|          \"\"Diaria\"\"|   \"\"Intradiaria\"\"]\"|2022-09-30T16:49:...|2022-09-30T17:16:...|2022-10-01T00:00:...|\n",
      "|  0|633724cd011e9379e...|                 []|   \"[{\"\"BH1\"\":12.33}|   {\"\"BH2\"\":44.44}]\"|                null|2022-08-26T20:25:...|                null|2024-07-01T03:00:...|63092c313cbff5755...|2022-07-28T03:00:...|                null|                null|              111227|           \"[\"\"BH1\"\"|           \"\"BH2\"\"]\"|            1000|               Ativo|                GN|     \"[\"\"Mensal\"\"|         \"\"Semanal\"\"|          \"\"Diaria\"\"|   \"\"Intradiaria\"\"]\"|2022-09-30T16:49:...|2022-09-30T17:18:...|2022-10-01T00:00:...|\n",
      "|  0|63374fcd3a9a8b107...|                 []|    \"[{\"\"RJ1\"\":30}]\"|                null|2022-08-15T20:01:...|2022-08-15T20:08:...|2024-07-01T03:00:...|62faa607145e106e5...|2022-07-01T03:00:...|                true|                null|              555777|         \"[\"\"RJ1\"\"]\"|              700000|               Ativo|              GN|        \"[\"\"Mensal\"\"|        \"\"Diaria\"\"|\"\"Intradiaria\"\"]\"|2022-09-30T15:10:...|2022-09-30T20:21:...|2022-11-01T00:00:...|                null|6337066f6d17d117a...|Aguardando Lançam...|\n",
      "|  0|6349733a8d83c972b...|                 []| \"[{\"\"SP1\"\":3875000}|   {\"\"SP2\"\":3875000}|   {\"\"MG1\"\":3875000}| {\"\"MG2\"\":3875000}]\"|                null|                null|                null|2024-07-10T03:00:...|62e962780bd0fc1f5...|2022-07-15T03:00:...|                null|                null|              111221|       \"[\"\"SP1\"\"|             \"\"SP2\"\"|           \"\"MG1\"\"|        \"\"MG2\"\"]\"|              500000|               Ativo|                  GN|    \"[\"\"Trimestral\"\"|          \"\"Mensal\"\"|         \"\"Semanal\"\"|\n",
      "|  0|6349733a8d83c972b...|                 []| \"[{\"\"SP1\"\":3875000}|   {\"\"SP2\"\":3875000}|   {\"\"MG1\"\":3875000}| {\"\"MG2\"\":3875000}]\"|                null|                null|                null|2024-07-10T03:00:...|62e962780bd0fc1f5...|2022-07-15T03:00:...|                null|                null|              111221|       \"[\"\"SP1\"\"|             \"\"SP2\"\"|           \"\"MG1\"\"|        \"\"MG2\"\"]\"|              500000|               Ativo|                  GN|    \"[\"\"Trimestral\"\"|          \"\"Mensal\"\"|         \"\"Semanal\"\"|\n",
      "|  0|6349733a8d83c972b...|                 []| \"[{\"\"SP1\"\":3500000}|   {\"\"SP2\"\":3500000}|   {\"\"MG1\"\":3500000}| {\"\"MG2\"\":3500000}]\"|                null|                null|                null|2024-07-10T03:00:...|62e962780bd0fc1f5...|2022-07-15T03:00:...|                null|                null|              111221|       \"[\"\"SP1\"\"|             \"\"SP2\"\"|           \"\"MG1\"\"|        \"\"MG2\"\"]\"|              500000|               Ativo|                  GN|    \"[\"\"Trimestral\"\"|          \"\"Mensal\"\"|         \"\"Semanal\"\"|\n",
      "|  0|634da0791ea68fc45...|    \"[{\"\"BA1\"\":140}|        {\"\"BA2\"\":30}|        {\"\"BA3\"\":30}|   {\"\"BA4\"\":25029}]\"| \"[{\"\"BA1\"\":3850000}|   {\"\"BA2\"\":3750000}|   {\"\"BA3\"\":3750000}| {\"\"BA4\"\":3750000}]\"|                null|2022-09-27T21:06:...|                null|2025-09-27T03:00:...|633365c27cade81f2...|2022-09-27T03:00:...|            null|                null|     1664312711086|        \"[\"\"BA1\"\"|             \"\"BA2\"\"|             \"\"BA3\"\"|           \"\"BA4\"\"]\"|              500000|               Ativo|                  GN|\n",
      "|  0|634da0791ea68fc45...|                 []| \"[{\"\"BA1\"\":3975000}|   {\"\"BA2\"\":3875000}|   {\"\"BA3\"\":3875000}| {\"\"BA4\"\":3875000}]\"|                null|2022-09-27T21:06:...|                null|2025-09-27T03:00:...|633365c27cade81f2...|2022-09-27T03:00:...|                null|                null|       1664312711086|       \"[\"\"BA1\"\"|             \"\"BA2\"\"|           \"\"BA3\"\"|        \"\"BA4\"\"]\"|              500000|               Ativo|                  GN|        \"[\"\"Diaria\"\"|     \"\"Intradiaria\"\"|    \"\"Trimestral\"\"]\"|\n",
      "+---+--------------------+-------------------+--------------------+--------------------+--------------------+--------------------+--------------------+--------------------+--------------------+--------------------+--------------------+--------------------+--------------------+--------------------+--------------------+----------------+--------------------+------------------+-----------------+--------------------+--------------------+--------------------+--------------------+--------------------+--------------------+\n",
      "only showing top 20 rows\n",
      "\n"
     ]
    }
   ],
   "source": [
    "# Reading and showing CSV local file\n",
    "df = spark.read.csv(arquivo)\n",
    "df.show()"
   ]
  },
  {
   "cell_type": "code",
   "execution_count": null,
   "metadata": {},
   "outputs": [],
   "source": []
  },
  {
   "cell_type": "code",
   "execution_count": null,
   "metadata": {},
   "outputs": [],
   "source": [
    "import pandas as pd \n",
    "from pyspark.sql.functions import col, regexp_replace\n",
    "from pyspark.sql.functions import to_date\n",
    "from datetime import datetime, timezone, timedelta\n",
    "from pyspark.sql import SparkSession, Row"
   ]
  },
  {
   "cell_type": "code",
   "execution_count": null,
   "metadata": {},
   "outputs": [],
   "source": [
    "df2 = df.select(\n",
    "    [col(\"_id.$oid\").alias(\"codigoProgramacao\"),\n",
    "    col(\"tipo\"),\n",
    "    col(\"data.$date\").alias(\"dataReferencia\"),\n",
    "    col(\"consumo.solicitado\").alias(\"consumoSolicitado\"),\n",
    "    col(\"consumo.programado\").alias(\"consumoProgramado\"),\n",
    "    col(\"contrato.numero\").alias(\"contratoNumero\"),\n",
    "    col(\"contrato.inicioVigencia\").alias(\"contratoInicioVigencia\"),\n",
    "    col(\"contrato.fimVigencia\").alias(\"contratoFimVigencia\"),\n",
    "    col(\"contrato.tipoGas\").alias(\"contratoTipoGas\"),\n",
    "    col(\"contrato.qdc\").alias(\"contratoqdc\"),\n",
    "    col(\"contrato.pontoEntrega\").alias(\"contratoPontoEntrega\"),\n",
    "    col(\"contrato.tipoProgramacao\").alias(\"contratotipoProgramacao\"),\n",
    "    col(\"contrato.limiteLancamento.HorarioDiaria\").alias(\"contratoLimiteLancamentoHorarioDiaria\"),\n",
    "    col(\"contrato.limiteLancamento.HorarioIntradiaria\").alias(\"contratoLimiteLancamentoHorarioIntradiaria\"),\n",
    "    col(\"contrato.limiteLancamento.diaInicioMensal\").alias(\"contratoLimiteLancamentodiaInicioMensal\"),\n",
    "    col(\"contrato.limiteLancamento.diaFimMensal\").alias(\"contratoLimiteLancamentodiaFimMensal\"),\n",
    "    col(\"contrato.id\").alias(\"codigoContrato\"),\n",
    "    #col(\"contrato.cliente\").alias(\"contratoCliente\"),\n",
    "    col(\"contrato.cliente.nome\").alias(\"contratoClienteNome\"),\n",
    "    col(\"contrato.cliente.cnpj\").alias(\"contratoClienteCnpj\"),\n",
    "    col(\"contrato.cliente.apelido\").alias(\"contratoClienteApelido\"),\n",
    "    col(\"contrato.cliente.codigoSAP\").alias(\"contratoClientecodigoSAP\"),\n",
    "    col(\"contrato.cliente.id\").alias(\"codigoCliente\"),\n",
    "    col(\"contrato.status\").alias(\"contratoStatus\"),\n",
    "    col(\"situacao\"),\n",
    "    col(\"idUsuario\"),\n",
    "    col(\"createdAt.$date\").alias(\"dataCriacao\"),\n",
    "    col(\"updatedAt.$date\").alias(\"dataAlteracao\")\n",
    "    ])\n"
   ]
  },
  {
   "cell_type": "code",
   "execution_count": null,
   "metadata": {},
   "outputs": [],
   "source": [
    "df_programacao3 = df_programacao2.withColumn(\"eq_time_dataCriacao\", (col(\"dataCriacao\") / 1000).cast(\"timestamp\")).withColumn(\"eq_time_dataAlteracao\", (col(\"dataAlteracao\") / 1000).cast(\"timestamp\")).withColumn(\"eq_time_dataReferencia\", (col(\"dataReferencia\") / 1000).cast(\"timestamp\"))"
   ]
  },
  {
   "cell_type": "code",
   "execution_count": null,
   "metadata": {},
   "outputs": [],
   "source": [
    "#withColumn('contratoInicioVigencia',regexp_replace('contratoInicioVigencia','Z','')).\n",
    "#.withColumn('contratoFimVigencia',regexp_replace('contratoFimVigencia','Z',''))\n",
    "df_programacao4 = df_programacao3.withColumn(\"codigoProgramacao\",df_programacao3[\"codigoProgramacao\"].cast('string')).withColumn(\"tipo\",df_programacao3[\"tipo\"].cast('string')).withColumn(\"contratoNumero\",df_programacao3[\"contratoNumero\"].cast('integer')).withColumn(\"contratoLimiteLancamentodiaInicioMensal\",df_programacao3[\"contratoLimiteLancamentodiaInicioMensal\"].cast('integer')).withColumn(\"contratoLimiteLancamentodiaFimMensal\",df_programacao3[\"contratoLimiteLancamentodiaFimMensal\"].cast('integer')).withColumn(\"contratoInicioVigencia\", (col(\"contratoInicioVigencia\")).cast(\"timestamp\")).withColumn(\"contratoFimVigencia\", (col(\"contratoFimVigencia\")).cast(\"timestamp\"))"
   ]
  },
  {
   "cell_type": "code",
   "execution_count": null,
   "metadata": {},
   "outputs": [],
   "source": [
    "df_programacao4.toPandas().to_csv(arquivo,sep=';',encoding='UTF-8')"
   ]
  }
 ],
 "metadata": {
  "kernelspec": {
   "display_name": "Python 3.10.8 64-bit (microsoft store)",
   "language": "python",
   "name": "python3"
  },
  "language_info": {
   "codemirror_mode": {
    "name": "ipython",
    "version": 3
   },
   "file_extension": ".py",
   "mimetype": "text/x-python",
   "name": "python",
   "nbconvert_exporter": "python",
   "pygments_lexer": "ipython3",
   "version": "3.10.8"
  },
  "orig_nbformat": 4,
  "vscode": {
   "interpreter": {
    "hash": "51483acfb3795ca081637c108ea431316e7e028cd053b45ddbb1d7569b3570c9"
   }
  }
 },
 "nbformat": 4,
 "nbformat_minor": 2
}

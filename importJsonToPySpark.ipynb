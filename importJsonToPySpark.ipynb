{
 "cells": [
  {
   "cell_type": "code",
   "execution_count": 1,
   "metadata": {},
   "outputs": [],
   "source": [
    "import pyspark\n",
    "import findspark"
   ]
  },
  {
   "cell_type": "code",
   "execution_count": 2,
   "metadata": {},
   "outputs": [],
   "source": [
    "from pyspark.sql import SparkSession"
   ]
  },
  {
   "cell_type": "code",
   "execution_count": 3,
   "metadata": {},
   "outputs": [],
   "source": [
    "spark = SparkSession.builder.appName(\"SparkApp\").getOrCreate()"
   ]
  },
  {
   "cell_type": "code",
   "execution_count": 4,
   "metadata": {},
   "outputs": [
    {
     "data": {
      "text/html": [
       "\n",
       "            <div>\n",
       "                <p><b>SparkSession - in-memory</b></p>\n",
       "                \n",
       "        <div>\n",
       "            <p><b>SparkContext</b></p>\n",
       "\n",
       "            <p><a href=\"http://host.docker.internal:4040\">Spark UI</a></p>\n",
       "\n",
       "            <dl>\n",
       "              <dt>Version</dt>\n",
       "                <dd><code>v3.3.1</code></dd>\n",
       "              <dt>Master</dt>\n",
       "                <dd><code>local[*]</code></dd>\n",
       "              <dt>AppName</dt>\n",
       "                <dd><code>SparkApp</code></dd>\n",
       "            </dl>\n",
       "        </div>\n",
       "        \n",
       "            </div>\n",
       "        "
      ],
      "text/plain": [
       "<pyspark.sql.session.SparkSession at 0x239ffec1630>"
      ]
     },
     "execution_count": 4,
     "metadata": {},
     "output_type": "execute_result"
    }
   ],
   "source": [
    "spark"
   ]
  },
  {
   "cell_type": "code",
   "execution_count": 5,
   "metadata": {},
   "outputs": [],
   "source": [
    "arquivo = \"files\\programacoes.json\""
   ]
  },
  {
   "cell_type": "code",
   "execution_count": 6,
   "metadata": {},
   "outputs": [],
   "source": [
    "df = spark.read.format('org.apache.spark.sql.json') \\\n",
    "        .load(arquivo)"
   ]
  },
  {
   "cell_type": "code",
   "execution_count": 7,
   "metadata": {},
   "outputs": [
    {
     "data": {
      "text/plain": [
       "DataFrame[__v: bigint, _id: struct<$oid:string>, consumo: struct<programado:array<struct<BA1:bigint,BA2:bigint,BA3:bigint,BA4:bigint,MG1:bigint,MG2:bigint,SP1:bigint,SP2:bigint>>,solicitado:array<struct<AL:bigint,BA1:bigint,BA2:bigint,BA3:bigint,BA4:bigint,BH1:double,BH2:double,MG1:bigint,MG2:bigint,RJ1:double,RN1:bigint,RN2:bigint,SP1:double,SP2:double,SP3:bigint,SP4:bigint>>>, contrato: struct<cliente:struct<apelido:string,cnpj:string,codigoSAP:string,createdAt:string,id:string,nome:string,updatedAt:string>,createdAt:string,deletedAt:string,fimVigencia:string,id:string,inicioVigencia:string,isDeleted:boolean,limiteLancamento:struct<diaFimAnual:string,diaFimMensal:bigint,diaFimSemanal:bigint,diaFimTrimestral:string,diaInicioAnual:string,diaInicioMensal:bigint,diaInicioSemanal:bigint,diaInicioTrimestral:string,horarioDiaria:string,horarioIntradiaria:string>,numero:string,pontoEntrega:array<string>,qdc:double,status:string,tipoGas:string,tipoProgramacao:array<string>,updatedAt:string>, createdAt: struct<$date:struct<$numberLong:string>>, data: struct<$date:struct<$numberLong:string>>, dataPeriodo: struct<$date:struct<$numberLong:string>>, idUsuario: string, situacao: string, tipo: string, updatedAt: struct<$date:struct<$numberLong:string>>]"
      ]
     },
     "metadata": {},
     "output_type": "display_data"
    }
   ],
   "source": [
    "df = spark.read\\\n",
    ".option(\"multiline\", \"true\")\\\n",
    ".json(arquivo)\n",
    "display(df)"
   ]
  },
  {
   "cell_type": "code",
   "execution_count": null,
   "metadata": {},
   "outputs": [],
   "source": [
    "from pyspark.sql.types import *\n",
    "from pyspark.sql.functions import *"
   ]
  },
  {
   "cell_type": "code",
   "execution_count": null,
   "metadata": {},
   "outputs": [],
   "source": [
    "# Flatten array of structs an structs\n",
    "\n",
    "def flatten(df):\n",
    "    # Compute complex filds (lists and structs) in schema\n",
    "    complex_fields = dict([(field.name, field.dataType)\n",
    "\t\t\tfor field in df.schema.fields\n",
    "\t\t\tif type(field.dataType) == ArrayType or type(field.dataType) == StructType])\n",
    "    while len(complex_fields)!=0:\n",
    "        col_name = list(complex_fields.keys())[0]\n",
    "        print (\"Processing :\"+col_name+\" Type : \"+str(type(complex_fields[col_name])))\n",
    "\n",
    "    # if structType then convert all sub element to columns.\n",
    "    # i.e. flatten structs\n",
    "    if (type(complex_fields[col_name]) == StructType):\n",
    "        expanded = [col(col_name+'.'+k).alias(col_name+'_'+k) for k in [n.name for n in complex_fields[col_name]]]\n",
    "        df = df.select(\"*\", *expanded).drop(col_name)\n",
    "\n",
    "    # if arrayType then add the array elements as rows using the explode function\n",
    "    # i.e. explede arrays\n",
    "    elif (type(complex_fields[col_name]) == ArrayType):\n",
    "        df = df.withColumn(col_name, explode_outer(col_name))\n",
    "\n",
    "    # Recompute remaining complex fields in schema\n",
    "    complex_fields = dict([(field.name, field.dataType)\n",
    "\t\t\tfor field in df.schema.fields\n",
    "\t\t\tif type(field.dataType) == ArrayType or type(field.dataType) == StructType])\n",
    "    return df"
   ]
  },
  {
   "cell_type": "code",
   "execution_count": null,
   "metadata": {},
   "outputs": [],
   "source": [
    "df_flatten = flatten(df)"
   ]
  }
 ],
 "metadata": {
  "kernelspec": {
   "display_name": "Python 3.10.8 64-bit (microsoft store)",
   "language": "python",
   "name": "python3"
  },
  "language_info": {
   "codemirror_mode": {
    "name": "ipython",
    "version": 3
   },
   "file_extension": ".py",
   "mimetype": "text/x-python",
   "name": "python",
   "nbconvert_exporter": "python",
   "pygments_lexer": "ipython3",
   "version": "3.10.8"
  },
  "orig_nbformat": 4,
  "vscode": {
   "interpreter": {
    "hash": "51483acfb3795ca081637c108ea431316e7e028cd053b45ddbb1d7569b3570c9"
   }
  }
 },
 "nbformat": 4,
 "nbformat_minor": 2
}
